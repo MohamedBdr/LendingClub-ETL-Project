{
 "cells": [
  {
   "cell_type": "markdown",
   "id": "7a1038b9-cf6e-4255-b3d7-26208194bc2e",
   "metadata": {},
   "source": [
    "## Writes on Docker Postgres\n",
    "> This file uploads Borrower.csv, CreditHistory.csv files on docker postgres."
   ]
  },
  {
   "cell_type": "code",
   "execution_count": 1,
   "id": "c99fe5f7-4c6a-4f85-8da6-6c5812dbb39d",
   "metadata": {},
   "outputs": [
    {
     "name": "stderr",
     "output_type": "stream",
     "text": [
      "25/08/02 04:33:55 WARN SparkSession: Using an existing Spark session; only runtime SQL configurations will take effect.\n"
     ]
    }
   ],
   "source": [
    "from pyspark.sql import SparkSession\n",
    "\n",
    "# pyspark --packages org.postgresql:postgresql:42.7.1\n",
    "# Create Spark session\n",
    "spark = SparkSession.builder \\\n",
    "    .appName(\"Write to Docker PostgreSQL\") \\\n",
    "    .config(\"spark.jars.packages\", \"org.postgresql:postgresql:42.7.1\") \\\n",
    "    .getOrCreate()\n"
   ]
  },
  {
   "cell_type": "code",
   "execution_count": 2,
   "id": "ed6ba0e5-2e7c-4c9d-8dae-ed1e2227dbe1",
   "metadata": {},
   "outputs": [
    {
     "name": "stderr",
     "output_type": "stream",
     "text": [
      "25/08/02 04:34:08 WARN GarbageCollectionMetrics: To enable non-built-in garbage collector(s) List(G1 Concurrent GC), users should configure it(them) to spark.eventLog.gcMetrics.youngGenerationGarbageCollectors or spark.eventLog.gcMetrics.oldGenerationGarbageCollectors\n",
      "                                                                                "
     ]
    }
   ],
   "source": [
    "borrower_df = spark.read.csv(\"./Borrower.csv\", header=True, inferSchema=True)\n",
    "credit_history_df = spark.read.csv(\"./CreditHistory.csv\", header=True, inferSchema=True)\n",
    "loan_details_df = spark.read.csv(\"./LoanDetails.csv\", header=True, inferSchema=True)\n",
    "loan_status_df = spark.read.csv(\"./LoanStatus.csv\", header=True, inferSchema=True)"
   ]
  },
  {
   "cell_type": "code",
   "execution_count": 5,
   "id": "d91022ee-1d35-4197-8de7-f71d7debe726",
   "metadata": {},
   "outputs": [],
   "source": [
    "# Connection properties\n",
    "#jdbc_url = \"jdbc:postgresql://localhost:5432/your_db_name\"\n",
    "jdbc_url = \"jdbc:postgresql://localhost:5433/postgres_db_src\"\n",
    "\n",
    "connection_properties = {\n",
    "    \"user\": \"postgres\",\n",
    "    \"password\": \"postgres\",\n",
    "    \"driver\": \"org.postgresql.Driver\"\n",
    "}"
   ]
  },
  {
   "cell_type": "code",
   "execution_count": 7,
   "id": "fbe29799-6c6a-4b36-8ed1-fea1da6757a5",
   "metadata": {},
   "outputs": [
    {
     "name": "stderr",
     "output_type": "stream",
     "text": [
      "25/08/02 04:44:55 WARN SparkStringUtils: Truncated the string representation of a plan since it was too large. This behavior can be adjusted by setting 'spark.sql.debug.maxToStringFields'.\n",
      "                                                                                "
     ]
    }
   ],
   "source": [
    "# Write to PostgreSQL\n",
    "borrower_df.write.jdbc(\n",
    "    url=jdbc_url,\n",
    "    table='\"Borrower\"',\n",
    "    mode=\"overwrite\",\n",
    "    properties=connection_properties\n",
    ")\n",
    "\n",
    "credit_history_df.write.jdbc(\n",
    "    url=jdbc_url,\n",
    "    table='\"CreditHistory\"',\n",
    "    mode=\"overwrite\",\n",
    "    properties=connection_properties\n",
    ")\n",
    "\n",
    "loan_details_df.write.jdbc(\n",
    "    url=jdbc_url,\n",
    "    table='\"LoanDetails\"',\n",
    "    mode=\"overwrite\",\n",
    "    properties=connection_properties\n",
    ")\n",
    "\n",
    "loan_status_df.write.jdbc(\n",
    "    url=jdbc_url,\n",
    "    table='\"LoanStatus\"',\n",
    "    mode=\"overwrite\",\n",
    "    properties=connection_properties\n",
    ")"
   ]
  },
  {
   "cell_type": "code",
   "execution_count": null,
   "id": "f9c6123b-23ae-423e-ad37-a50922a2fb27",
   "metadata": {},
   "outputs": [],
   "source": []
  }
 ],
 "metadata": {
  "kernelspec": {
   "display_name": "Python 3 (ipykernel)",
   "language": "python",
   "name": "python3"
  },
  "language_info": {
   "codemirror_mode": {
    "name": "ipython",
    "version": 3
   },
   "file_extension": ".py",
   "mimetype": "text/x-python",
   "name": "python",
   "nbconvert_exporter": "python",
   "pygments_lexer": "ipython3",
   "version": "3.13.5"
  }
 },
 "nbformat": 4,
 "nbformat_minor": 5
}
